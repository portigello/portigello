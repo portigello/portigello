{
    "cells": [
        {
            "metadata": {},
            "cell_type": "markdown",
            "source": "# Descripci\u00f3n \n Esto analiza y visualiza datos"
        },
        {
            "metadata": {},
            "cell_type": "code",
            "source": "\nimport os, types\nimport pandas as pd\nfrom botocore.client import Config\nimport ibm_boto3\n\ndef __iter__(self): return 0\n\n# @hidden_cell\n# The following code accesses a file in your IBM Cloud Object Storage. It includes your credentials.\n# You might want to remove those credentials before you share the notebook.\nclient_fc0b7e0c35e148bdbe0403965eae7c37 = ibm_boto3.client(service_name='s3',\n    ibm_api_key_id='zrXY9dA9mzHjz-GtoqNdr4X2JoUb_QobO5CoaOECDPxx',\n    ibm_auth_endpoint=\"https://iam.cloud.ibm.com/oidc/token\",\n    config=Config(signature_version='oauth'),\n    endpoint_url='https://s3.private.us.cloud-object-storage.appdomain.cloud')\n\nbody = client_fc0b7e0c35e148bdbe0403965eae7c37.get_object(Bucket='jupyternotebooks-donotdelete-pr-mwlszv05akqtnn',Key='shirts.csv')['Body']\n# add missing __iter__ method, so pandas accepts body as file-like object\nif not hasattr(body, \"__iter__\"): body.__iter__ = types.MethodType( __iter__, body )\n\ndf_data_1 = pd.read_csv(body)\ndf_data_1.head()\n",
            "execution_count": 1,
            "outputs": [
                {
                    "output_type": "execute_result",
                    "execution_count": 1,
                    "data": {
                        "text/plain": "   OrderID  Quantity   Price  RankInOrder        Date     ShirtType  MSRP  \\\n0    10147        33   97.89            4    9/5/2003  Dress Shirts   115   \n1    10151        30   40.31            4   9/21/2003  Dress Shirts    35   \n2    10313        40  100.00            7  10/22/2004  Dress Shirts   147   \n3    10211        41  100.00           14   1/15/2004   Polo Shirts    95   \n4    10366        49  100.00            2   1/10/2005  Dress Shirts   132   \n\n    ShirtID        City  Country ShirtSize  \n0  S12_4675  Brickhaven      USA    Medium  \n1  S24_2840        Oulu  Finland     Large  \n2  S10_4962   Vancouver   Canada    Medium  \n3  S10_1678       Paris   France    Medium  \n4  S18_2870   Charleroi  Belgium    Medium  ",
                        "text/html": "<div>\n<style scoped>\n    .dataframe tbody tr th:only-of-type {\n        vertical-align: middle;\n    }\n\n    .dataframe tbody tr th {\n        vertical-align: top;\n    }\n\n    .dataframe thead th {\n        text-align: right;\n    }\n</style>\n<table border=\"1\" class=\"dataframe\">\n  <thead>\n    <tr style=\"text-align: right;\">\n      <th></th>\n      <th>OrderID</th>\n      <th>Quantity</th>\n      <th>Price</th>\n      <th>RankInOrder</th>\n      <th>Date</th>\n      <th>ShirtType</th>\n      <th>MSRP</th>\n      <th>ShirtID</th>\n      <th>City</th>\n      <th>Country</th>\n      <th>ShirtSize</th>\n    </tr>\n  </thead>\n  <tbody>\n    <tr>\n      <th>0</th>\n      <td>10147</td>\n      <td>33</td>\n      <td>97.89</td>\n      <td>4</td>\n      <td>9/5/2003</td>\n      <td>Dress Shirts</td>\n      <td>115</td>\n      <td>S12_4675</td>\n      <td>Brickhaven</td>\n      <td>USA</td>\n      <td>Medium</td>\n    </tr>\n    <tr>\n      <th>1</th>\n      <td>10151</td>\n      <td>30</td>\n      <td>40.31</td>\n      <td>4</td>\n      <td>9/21/2003</td>\n      <td>Dress Shirts</td>\n      <td>35</td>\n      <td>S24_2840</td>\n      <td>Oulu</td>\n      <td>Finland</td>\n      <td>Large</td>\n    </tr>\n    <tr>\n      <th>2</th>\n      <td>10313</td>\n      <td>40</td>\n      <td>100.00</td>\n      <td>7</td>\n      <td>10/22/2004</td>\n      <td>Dress Shirts</td>\n      <td>147</td>\n      <td>S10_4962</td>\n      <td>Vancouver</td>\n      <td>Canada</td>\n      <td>Medium</td>\n    </tr>\n    <tr>\n      <th>3</th>\n      <td>10211</td>\n      <td>41</td>\n      <td>100.00</td>\n      <td>14</td>\n      <td>1/15/2004</td>\n      <td>Polo Shirts</td>\n      <td>95</td>\n      <td>S10_1678</td>\n      <td>Paris</td>\n      <td>France</td>\n      <td>Medium</td>\n    </tr>\n    <tr>\n      <th>4</th>\n      <td>10366</td>\n      <td>49</td>\n      <td>100.00</td>\n      <td>2</td>\n      <td>1/10/2005</td>\n      <td>Dress Shirts</td>\n      <td>132</td>\n      <td>S18_2870</td>\n      <td>Charleroi</td>\n      <td>Belgium</td>\n      <td>Medium</td>\n    </tr>\n  </tbody>\n</table>\n</div>"
                    },
                    "metadata": {}
                }
            ]
        },
        {
            "metadata": {},
            "cell_type": "code",
            "source": "",
            "execution_count": null,
            "outputs": []
        }
    ],
    "metadata": {
        "kernelspec": {
            "name": "python3",
            "display_name": "Python 3.9",
            "language": "python"
        },
        "language_info": {
            "name": "python",
            "version": "3.9.7",
            "mimetype": "text/x-python",
            "codemirror_mode": {
                "name": "ipython",
                "version": 3
            },
            "pygments_lexer": "ipython3",
            "nbconvert_exporter": "python",
            "file_extension": ".py"
        }
    },
    "nbformat": 4,
    "nbformat_minor": 1
}